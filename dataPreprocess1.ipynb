{
 "cells": [
  {
   "cell_type": "markdown",
   "metadata": {},
   "source": [
    "### 1. Data Preprocessing \n",
    "#### ① Basic preprocessing\n",
    "\n",
    "도서관에서 제공받은 데이터를 예측에 사용하기 위해 Data Preprocessing(데이터 전처리)을 진행했고, 본 페이지에서는 전처리 중 가장 먼저 이루어지는 단계이다. **base_preprocess** 를 통해 열 이름을 재정의하고, 예측에 필요하지 않은 데이터들은 걸러냈다. 그 후, **make_student_table**, **make_book_table**에서 차후에 이루어질 전처리 단계를 위한 도서 정보 테이블과 학생 테이블을 return 했다. \n",
    "\n",
    "*열 이름 재정의, school_dict의 세부 내용은 데이터 보호를 위해 생략한다.*"
   ]
  },
  {
   "cell_type": "code",
   "execution_count": null,
   "metadata": {
    "id": "Yo9bMndFugm-"
   },
   "outputs": [],
   "source": [
    "import pandas as pd\n",
    "import numpy as np\n",
    "import matplotlib.pyplot as plt\n",
    "import pickle"
   ]
  },
  {
   "cell_type": "code",
   "execution_count": null,
   "metadata": {
    "id": "iiufo_5aycOG"
   },
   "outputs": [],
   "source": [
    "def base_preprocess(data, start_date, end_date, record_cnt):\n",
    "    \n",
    "    #1. rename columns & revalue student number id \n",
    "    data.rename(columns = {'original_column_names' : 'new_column_names'\n",
    "                          }, inplace=True)\n",
    "    \n",
    "    data['student_id'] = data['student_id']*10000000000\n",
    "    data['student_id'] = data['student_id'].astype('int')\n",
    "    data['student_id'] = data['student_id'].astype('str')\n",
    "    \n",
    "    \n",
    "    #2. delete except useful columns\n",
    "    data = data[['book_id', 'student_id','book_loc', 'book_loc_2', 'title', \n",
    "                 'book_ddc', 'borrow_date', 'return_date', \n",
    "                 'borrow_state','borrow_type','return_type','seoji_num','major']]\n",
    "    \n",
    "    \n",
    "    #3. return_type : return type delete of lost\n",
    "    data = data[data['return_type'] != '분실신고반납']\n",
    "\n",
    "    #4. borrow_state : leave only return complete  \n",
    "    data = data[data['borrow_state'] == '반납완료']\n",
    "    \n",
    "    #5. borrow_type : only leave correct borrowing \n",
    "    data = data[data['borrow_type'].isin(['일반대출', '예약도서대출', '무인대출반납']) == True]\n",
    "\n",
    "    #6. major: delete weird majors \n",
    "    data = data[data['major'].isin(['중앙도서관', '학술정보지원팀', '외부이용자']) == False]\n",
    "\n",
    "    #7. book: delete thesis, workbooks and dvd using book locations\n",
    "    data = data[~data['book_loc_2'].isin(['book_locations'])]\n",
    "    \n",
    "    #8. books: which does not have ddc call numbers\n",
    "    data = data[data['book_ddc'].isnull() != True]\n",
    "    \n",
    "    \n",
    "    #9. student: with more than 2 different borrow records\n",
    "    data_grp = data.groupby('student_id').count()\n",
    "    data_grp = data_grp[['borrow_date']]\n",
    "    data_grp.sort_values('borrow_date', inplace = True)\n",
    "    over_record_cnt = data_grp[data_grp['borrow_date'] >= record_cnt]\n",
    "    \n",
    "    filtered_data = data[data['student_id'].isin(over_record_cnt.index)]\n",
    "\n",
    "    \n",
    "    #10. filtering by borrow and return date\n",
    "    filtered_data = filtered_data[(filtered_data['borrow_date'] >= start_date) & (filtered_data['return_date'] < end_date)]\n",
    "    \n",
    "    #11. remain columns for prediction\n",
    "    filtered_data = filtered_data[['book_id', 'student_id', 'title', 'book_ddc', 'major']]\n",
    "    \n",
    "    filtered_data.reset_index(inplace = True, drop = True)\n",
    "    return filtered_data\n",
    "\n",
    "def make_student_table(data):\n",
    "    student_major = data[['student_id', 'major']]\n",
    "    student_major = student_major.drop_duplicates(['student_id'], keep='first')\n",
    "    student_major.sort_values('student_id', inplace=True)\n",
    "    student_major.reset_index(inplace=True, drop=True)\n",
    "    \n",
    "    ## generalizing level of major as a colleage unit\n",
    "    college_dict = {'school' : 'major_list'}\n",
    "    \n",
    "    def find_college(major):\n",
    "        college_list = sorted(list(college_dict.keys()))\n",
    "        \n",
    "        for key, value in college_dict.items():\n",
    "            if major in value:\n",
    "                return [key, college_list.index(key)]\n",
    "            \n",
    "            \n",
    "    temp = student_major['major'].apply(lambda x: find_dept(x), axis = 1, result_type = 'expand')\n",
    "    student = pd.concat([student_major, temp], axis = 1)\n",
    "    student = student[student['college'].isnull() != True]\n",
    "    student.reset_index(inplace = True, drop = True)\n",
    "    \n",
    "    return student\n",
    "\n",
    "\n",
    "def make_book_table(data):\n",
    "    book_df = data[['book_id', 'title', 'book_ddc']]\n",
    "    book_df = book_df.drop_duplicates(['book_id'], keep='first')\n",
    "    book_df.sort_values('book_id', inplace=True)\n",
    "    book_df.reset_index(inplace = True, drop = True)\n",
    "    \n",
    "    return book_df\n"
   ]
  },
  {
   "cell_type": "code",
   "execution_count": null,
   "metadata": {
    "colab": {
     "base_uri": "https://localhost:8080/"
    },
    "id": "W1ybM7WsLiTl",
    "outputId": "7771acd5-4e42-42b2-f1e9-2c0367f40657"
   },
   "outputs": [],
   "source": [
    "if __name__ == '__main__':\n",
    "    raw_data = pd.read_csv('../tot_1519.csv')\n",
    "    data = base_preprocess(raw_data, '2019-01-01', '2020-01-01', record_cnt = 5)\n",
    "    student_df = make_student_table(data)\n",
    "    \n",
    "    data = data[data['student_id'].isin(student_df['student_id']) == True]\n",
    "    book_df = make_book_table(data)\n",
    "    \n",
    "    ## save df\n",
    "    #student_df.to_csv('student.csv')\n",
    "    #book_df.to_csv('book.csv')\n",
    "    #data.to_csv('data.csv')"
   ]
  }
 ],
 "metadata": {
  "colab": {
   "collapsed_sections": [],
   "machine_shape": "hm",
   "name": "dataPreprocess.ipynb",
   "provenance": [],
   "toc_visible": true
  },
  "kernelspec": {
   "display_name": "Python 3",
   "language": "python",
   "name": "python3"
  },
  "language_info": {
   "codemirror_mode": {
    "name": "ipython",
    "version": 3
   },
   "file_extension": ".py",
   "mimetype": "text/x-python",
   "name": "python",
   "nbconvert_exporter": "python",
   "pygments_lexer": "ipython3",
   "version": "3.6.7"
  }
 },
 "nbformat": 4,
 "nbformat_minor": 4
}
